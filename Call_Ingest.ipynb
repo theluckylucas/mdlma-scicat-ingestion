{
 "cells": [
  {
   "cell_type": "code",
   "execution_count": 6,
   "metadata": {},
   "outputs": [
    {
     "name": "stdout",
     "output_type": "stream",
     "text": [
      "START 2020-09-02 12:37:52.994331\n",
      "{'contactEmail': 'user@group.se',\n",
      " 'creationTime': '2020-09-02 12:37:52.995327',\n",
      " 'datasetName': 'dataset2020-09-02 12:37:52.995327',\n",
      " 'inputDatasets': ['none'],\n",
      " 'investigator': 'julian.moosmann@hzg.de',\n",
      " 'isPublished': False,\n",
      " 'owner': 'chris',\n",
      " 'ownerGroup': 'hasylab',\n",
      " 'pid': '15990430728559362',\n",
      " 'sourceFolder': '/asap3/petra3/gpfs/p05/2020/data/1234',\n",
      " 'type': 'derived',\n",
      " 'usedSoftware': 'fiji'}\n",
      "DATASET INGEST: <Response [200]>\n",
      "END 2020-09-02 12:37:53.199947\n"
     ]
    }
   ],
   "source": [
    "!python IngestP05.py a2GtdNOZ7g0wxighjrzjNTwQObtac4X7cYODIREhOsSyj0o0cew2IRMGXBmhAIc3 chris hasylab user@group.se 1234 2020 none"
   ]
  },
  {
   "cell_type": "code",
   "execution_count": null,
   "metadata": {},
   "outputs": [],
   "source": []
  },
  {
   "cell_type": "code",
   "execution_count": null,
   "metadata": {},
   "outputs": [],
   "source": []
  }
 ],
 "metadata": {
  "kernelspec": {
   "display_name": "Python 3",
   "language": "python",
   "name": "python3"
  },
  "language_info": {
   "codemirror_mode": {
    "name": "ipython",
    "version": 3
   },
   "file_extension": ".py",
   "mimetype": "text/x-python",
   "name": "python",
   "nbconvert_exporter": "python",
   "pygments_lexer": "ipython3",
   "version": "3.6.10"
  }
 },
 "nbformat": 4,
 "nbformat_minor": 4
}
