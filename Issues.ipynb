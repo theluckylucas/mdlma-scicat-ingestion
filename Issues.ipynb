{
 "cells": [
  {
   "cell_type": "code",
   "execution_count": 63,
   "metadata": {
    "scrolled": false
   },
   "outputs": [],
   "source": [
    "from pprint import pprint\n",
    "import requests\n",
    "import json\n",
    "\n",
    "\n",
    "URL_BASE = \"http://scicat-mdlma.desy.de/api/v3/Datasets/{}\"\n",
    "URL_TOKEN = URL_BASE + \"?access_token={}\"\n",
    "HEADERS = {\n",
    "    'content-type': 'application/json'\n",
    "}"
   ]
  },
  {
   "cell_type": "markdown",
   "metadata": {},
   "source": [
    "Please set current token:"
   ]
  },
  {
   "cell_type": "code",
   "execution_count": 81,
   "metadata": {},
   "outputs": [],
   "source": [
    "pid = \"MDLMA-/50a2ab5b-2a12-4c70-9166-e10e4479bdff\"  # ID of dataset\n",
    "token = \"nF4cdrNQfhSJg9DU3FpHAzI9W84EkRqW17Rrlm1oTBhiCUQW1WqnanAAjQ69ZNZw\"  # current user auth token"
   ]
  },
  {
   "cell_type": "markdown",
   "metadata": {},
   "source": [
    "GET returns expected data:"
   ]
  },
  {
   "cell_type": "code",
   "execution_count": 82,
   "metadata": {},
   "outputs": [
    {
     "name": "stdout",
     "output_type": "stream",
     "text": [
      "http://scicat-mdlma.desy.de/api/v3/Datasets/invalidID\n",
      "<Response [404]>\n"
     ]
    }
   ],
   "source": [
    "url = URL_BASE.format(\"invalidID\")\n",
    "print(url)\n",
    "resp = requests.get(url, headers=HEADERS)\n",
    "print(resp)"
   ]
  },
  {
   "cell_type": "code",
   "execution_count": 83,
   "metadata": {},
   "outputs": [
    {
     "name": "stdout",
     "output_type": "stream",
     "text": [
      "http://scicat-mdlma.desy.de/api/v3/Datasets/MDLMA-%2F50a2ab5b-2a12-4c70-9166-e10e4479bdff\n",
      "<Response [200]>\n",
      "{'classification': 'IN=medium,AV=low,CO=low',\n",
      " 'contactEmail': 'me@us.de',\n",
      " 'createdAt': '2020-08-31T14:31:53.260Z',\n",
      " 'createdBy': 'ldap.Christian Lucas',\n",
      " 'creationTime': '2020-08-31T16:31:53.000Z',\n",
      " 'datasetName': 'data/12345678',\n",
      " 'datasetlifecycle': {'archivable': True,\n",
      "                      'archiveRetentionTime': '2030-08-31T00:00:00.000Z',\n",
      "                      'archiveStatusMessage': 'datasetCreated',\n",
      "                      'dateOfPublishing': '2023-08-31T00:00:00.000Z',\n",
      "                      'isOnCentralDisk': True,\n",
      "                      'publishable': False,\n",
      "                      'retrievable': False,\n",
      "                      'retrieveIntegrityCheck': False,\n",
      "                      'retrieveStatusMessage': ''},\n",
      " 'history': [],\n",
      " 'inputDatasets': ['MDLMA-/c14823e9-cc17-42d7-9ccc-0ce501c5b278'],\n",
      " 'investigator': 'julian.moosmann@hzg.de',\n",
      " 'isPublished': True,\n",
      " 'owner': 'testuser',\n",
      " 'ownerGroup': 'WB',\n",
      " 'pid': 'MDLMA-/50a2ab5b-2a12-4c70-9166-e10e4479bdff',\n",
      " 'sourceFolder': '/asap3/petra3/gpfs/p05/2020/data/12345678',\n",
      " 'techniques': [],\n",
      " 'type': 'derived',\n",
      " 'updatedAt': '2020-08-31T14:31:53.265Z',\n",
      " 'usedSoftware': 'fiji',\n",
      " 'version': '3.0.1'}\n"
     ]
    }
   ],
   "source": [
    "url = URL_BASE.format(pid.replace('/', '%2F'))\n",
    "print(url)\n",
    "resp = requests.get(url, headers=HEADERS)\n",
    "print(resp)\n",
    "pprint(json.loads(resp.content))"
   ]
  },
  {
   "cell_type": "markdown",
   "metadata": {},
   "source": [
    "GET dataset with token gives 404:"
   ]
  },
  {
   "cell_type": "code",
   "execution_count": 84,
   "metadata": {},
   "outputs": [
    {
     "name": "stdout",
     "output_type": "stream",
     "text": [
      "http://scicat-mdlma.desy.de/api/v3/Datasets/MDLMA-%2F50a2ab5b-2a12-4c70-9166-e10e4479bdff?access_token=nF4cdrNQfhSJg9DU3FpHAzI9W84EkRqW17Rrlm1oTBhiCUQW1WqnanAAjQ69ZNZw\n",
      "<Response [404]>\n"
     ]
    }
   ],
   "source": [
    "url = URL_TOKEN.format(pid.replace('/', '%2F'), token)\n",
    "print(url)\n",
    "resp = requests.get(url, headers=HEADERS)\n",
    "print(resp)"
   ]
  },
  {
   "cell_type": "markdown",
   "metadata": {},
   "source": [
    "However, GET for dataset exists requires a token, otherwise it gives a 401:"
   ]
  },
  {
   "cell_type": "code",
   "execution_count": 85,
   "metadata": {},
   "outputs": [
    {
     "name": "stdout",
     "output_type": "stream",
     "text": [
      "http://scicat-mdlma.desy.de/api/v3/Datasets/MDLMA-%2F50a2ab5b-2a12-4c70-9166-e10e4479bdff/exists\n",
      "<Response [401]>\n"
     ]
    }
   ],
   "source": [
    "url = URL_BASE.format(pid.replace('/', '%2F') + \"/exists\")\n",
    "print(url)\n",
    "resp = requests.get(url, headers=HEADERS)\n",
    "print(resp)"
   ]
  },
  {
   "cell_type": "markdown",
   "metadata": {},
   "source": [
    "Still, it returns FALSE while expected to return TRUE:"
   ]
  },
  {
   "cell_type": "code",
   "execution_count": 86,
   "metadata": {},
   "outputs": [
    {
     "name": "stdout",
     "output_type": "stream",
     "text": [
      "http://scicat-mdlma.desy.de/api/v3/Datasets/MDLMA-%2F50a2ab5b-2a12-4c70-9166-e10e4479bdff/exists?access_token=nF4cdrNQfhSJg9DU3FpHAzI9W84EkRqW17Rrlm1oTBhiCUQW1WqnanAAjQ69ZNZw\n",
      "<Response [200]>\n",
      "{'exists': False}\n"
     ]
    }
   ],
   "source": [
    "url = URL_TOKEN.format(pid.replace('/', '%2F') + \"/exists\", token)\n",
    "print(url)\n",
    "resp = requests.get(url, headers=HEADERS)\n",
    "print(resp)\n",
    "pprint(json.loads(resp.content))"
   ]
  },
  {
   "cell_type": "markdown",
   "metadata": {},
   "source": [
    "Also, dataset cannot be deleted due to a 401:"
   ]
  },
  {
   "cell_type": "code",
   "execution_count": 94,
   "metadata": {},
   "outputs": [
    {
     "name": "stdout",
     "output_type": "stream",
     "text": [
      "http://scicat-mdlma.desy.de/api/v3/Datasets/MDLMA-%2F50a2ab5b-2a12-4c70-9166-e10e4479bdff\n",
      "<Response [401]>\n"
     ]
    }
   ],
   "source": [
    "url = URL_BASE.format(pid.replace('/', '%2F'))\n",
    "print(url)\n",
    "resp = requests.delete(url, headers=HEADERS)\n",
    "print(resp)"
   ]
  },
  {
   "cell_type": "code",
   "execution_count": 95,
   "metadata": {},
   "outputs": [
    {
     "name": "stdout",
     "output_type": "stream",
     "text": [
      "http://scicat-mdlma.desy.de/api/v3/Datasets/MDLMA-%2F50a2ab5b-2a12-4c70-9166-e10e4479bdff?access_token=nF4cdrNQfhSJg9DU3FpHAzI9W84EkRqW17Rrlm1oTBhiCUQW1WqnanAAjQ69ZNZw\n",
      "<Response [401]>\n"
     ]
    }
   ],
   "source": [
    "url = URL_TOKEN.format(pid.replace('/', '%2F'), token)\n",
    "print(url)\n",
    "resp = requests.delete(url, headers=HEADERS)\n",
    "print(resp)"
   ]
  },
  {
   "cell_type": "code",
   "execution_count": null,
   "metadata": {},
   "outputs": [],
   "source": []
  }
 ],
 "metadata": {
  "kernelspec": {
   "display_name": "Python 3",
   "language": "python",
   "name": "python3"
  },
  "language_info": {
   "codemirror_mode": {
    "name": "ipython",
    "version": 3
   },
   "file_extension": ".py",
   "mimetype": "text/x-python",
   "name": "python",
   "nbconvert_exporter": "python",
   "pygments_lexer": "ipython3",
   "version": "3.6.10"
  }
 },
 "nbformat": 4,
 "nbformat_minor": 4
}
