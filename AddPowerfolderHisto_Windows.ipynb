{
 "cells": [
  {
   "cell_type": "code",
   "execution_count": 1,
   "metadata": {
    "scrolled": false
   },
   "outputs": [],
   "source": [
    "from ScicatTool.Filesystem.FSInfo import listdir, list_files, file_size, get_creation_date\n",
    "from ScicatTool.Filesystem.FSInfoWin import get_ownername\n",
    "from ScicatTool.Filesystem.ImInfo import load_numpy_from_image, TYPES, SUPPORTED_IMAGE_TYPES, get_uri_from_numpy, get_ext\n",
    "from ScicatTool.Datasets.APIKeys import SOURCE_FOLDER, SIZE, PID, ATTACHMENT_CAPTION\n",
    "from ScicatTool.Datasets.Dataset import ScientificMetadataBuilder, AttachmentBuilder\n",
    "from ScicatTool.Datasets.Consts import PID_PREFIX\n",
    "from ScicatTool.Datasets.DatasetVirtual import HistoRawDatasetBuilder\n",
    "from ScicatTool.Datablocks.Datablock import OrigDatablockBuilder\n",
    "from ScicatTool.Datablocks.APIKeys import DATA_FILE_LIST\n",
    "from ScicatTool.Proposals.APIKeys import PROPOSAL_ID, LASTNAME\n",
    "from ScicatTool.Sites.Beamline.Consts import RAW\n",
    "from ScicatTool.REST.Consts import NA\n",
    "import ScicatTool.REST.API as API\n",
    "from pprint import pprint\n",
    "import argparse\n",
    "import numpy as np\n",
    "import csv\n",
    "\n",
    "\n",
    "PATH = \"D:/PowerFolders/Synchroload MgBone/Histologies\"\n",
    "EXTS = [\".tif\", \".tiff\", \".jpg\", \".jpeg\"]\n",
    "FILENAME_IGNORE_PATTERN = [\"_ref\", \"_dar\"]\n",
    "class ArgsMockUp():\n",
    "    token = \"04zCAnxYXryYV2kbFQodMBEqyRHGykTKBFCf9imjAYnDL7x5tNiCC0guUW2ahA30\"\n",
    "    filename = \"C:/Users/lucaschr/mdlma-scicat-ingestion/_samples_synchroload.csv\"\n",
    "    histoidcol = 14\n",
    "    ownergroup = \"hasylab\"\n",
    "    accessgroups = [\"public\", \"it\", \"wb\", \"hasylab\", \"external\"]\n",
    "    contactemail = \"julian.moosmann@desy.de\"\n",
    "    keywords = []\n",
    "    nattachments = 4\n",
    "    thumbnailsize = 150\n",
    "    verbose = 0\n",
    "    simulation = False\n",
    "    blankdatablock = False"
   ]
  },
  {
   "cell_type": "code",
   "execution_count": 2,
   "metadata": {},
   "outputs": [],
   "source": [
    "def get_histoids(args):    \n",
    "    header = None\n",
    "    first = True\n",
    "    samples = {}\n",
    "    with open(args.filename, newline='') as csvfile:\n",
    "        reader = csv.reader(csvfile, delimiter=';', quotechar='\"')\n",
    "        for row in reader:\n",
    "            if first:\n",
    "                header = row\n",
    "                first = False\n",
    "            else:\n",
    "                if row[0] in samples.values():\n",
    "                    print(\"Sample duplicate\", row[0])\n",
    "                    exit(0)\n",
    "                else:\n",
    "                    samples[row[args.histoidcol]] = row[0]\n",
    "    return samples\n",
    "\n",
    "\n",
    "def _api_dataset_ingest(args, dataset_dict, datablock_dict, attachment_dicts):\n",
    "    failed = {}\n",
    "    if not datablock_dict[DATA_FILE_LIST] and not blankdatablock:\n",
    "        failed[dataset_dict[SOURCE_FOLDER]] = \"No files found, thus dataset not added to Scicat!\"\n",
    "    else:\n",
    "        # Add dataset\n",
    "        resp = API.dataset_ingest(args.token, dataset_dict, args.simulation, args.verbose)\n",
    "        if resp.status_code != 200:\n",
    "            failed[dataset_dict[\"datasetName\"]] = resp.text\n",
    "\n",
    "        # Add dataset files in a OrigDatablock\n",
    "        resp = API.origdatablock_ingest(args.token, datablock_dict, args.simulation, args.verbose)\n",
    "        if resp.status_code != 200:\n",
    "            failed[dataset_dict[\"datasetName\"] + \"-OrigDataBlock\"] = resp.text\n",
    "\n",
    "        # Add attachments\n",
    "        for attachment_dict in attachment_dicts:\n",
    "            resp = API.dataset_attach(args.token, attachment_dict, PID_PREFIX + dataset_dict[PID], args.simulation, args.verbose)\n",
    "            if resp.status_code != 200:\n",
    "                failed[dataset_dict[\"datasetName\"] + \"-\" + attachment_dict[ATTACHMENT_CAPTION]] = resp.text\n",
    "\n",
    "    return failed"
   ]
  },
  {
   "cell_type": "code",
   "execution_count": 3,
   "metadata": {
    "scrolled": false
   },
   "outputs": [],
   "source": [
    "args = ArgsMockUp()\n",
    "\n",
    "histoid_sample = get_histoids(args)\n",
    "\n",
    "filelist = list_files(PATH, EXTS)\n",
    "\n",
    "images = {}\n",
    "for hid in histoid_sample.keys():\n",
    "    images[hid] = []\n",
    "    \n",
    "for fn in filelist:\n",
    "    pos = fn.find(\"17\")\n",
    "    if pos > -1:\n",
    "        histo_id = fn[pos:pos+5]\n",
    "        if histo_id in histoid_sample.keys():\n",
    "            try:\n",
    "                int(histo_id)\n",
    "            except:\n",
    "                print(histo_id, \"-> nan\")\n",
    "                continue\n",
    "            images[histo_id].append(fn)"
   ]
  },
  {
   "cell_type": "code",
   "execution_count": 4,
   "metadata": {
    "scrolled": false
   },
   "outputs": [
    {
     "name": "stderr",
     "output_type": "stream",
     "text": [
      "Lossy conversion from float32 to uint8. Range [0, 1]. Convert image to uint8 prior to saving to suppress this warning.\n",
      "Lossy conversion from float32 to uint8. Range [0, 1]. Convert image to uint8 prior to saving to suppress this warning.\n"
     ]
    },
    {
     "name": "stdout",
     "output_type": "stream",
     "text": [
      "DATASETS JSON INGEST: <Response [200]>\n",
      "ORIGDATABLOCKS JSON INGEST: <Response [200]>\n",
      "DATASETS JSON ATTACH: <Response [200]>\n",
      "DATASETS JSON ATTACH: <Response [200]>\n"
     ]
    },
    {
     "name": "stderr",
     "output_type": "stream",
     "text": [
      "Lossy conversion from float32 to uint8. Range [0, 1]. Convert image to uint8 prior to saving to suppress this warning.\n",
      "Lossy conversion from float32 to uint8. Range [0, 1]. Convert image to uint8 prior to saving to suppress this warning.\n",
      "Lossy conversion from float32 to uint8. Range [0, 1]. Convert image to uint8 prior to saving to suppress this warning.\n"
     ]
    },
    {
     "name": "stdout",
     "output_type": "stream",
     "text": [
      "DATASETS JSON INGEST: <Response [200]>\n",
      "ORIGDATABLOCKS JSON INGEST: <Response [200]>\n",
      "DATASETS JSON ATTACH: <Response [200]>\n",
      "DATASETS JSON ATTACH: <Response [200]>\n",
      "DATASETS JSON ATTACH: <Response [200]>\n"
     ]
    },
    {
     "name": "stderr",
     "output_type": "stream",
     "text": [
      "Lossy conversion from float32 to uint8. Range [0, 1]. Convert image to uint8 prior to saving to suppress this warning.\n",
      "Lossy conversion from float32 to uint8. Range [0, 1]. Convert image to uint8 prior to saving to suppress this warning.\n",
      "Lossy conversion from float32 to uint8. Range [0, 1]. Convert image to uint8 prior to saving to suppress this warning.\n"
     ]
    },
    {
     "name": "stdout",
     "output_type": "stream",
     "text": [
      "DATASETS JSON INGEST: <Response [200]>\n",
      "ORIGDATABLOCKS JSON INGEST: <Response [200]>\n",
      "DATASETS JSON ATTACH: <Response [200]>\n",
      "DATASETS JSON ATTACH: <Response [200]>\n",
      "DATASETS JSON ATTACH: <Response [200]>\n"
     ]
    },
    {
     "name": "stderr",
     "output_type": "stream",
     "text": [
      "Lossy conversion from float32 to uint8. Range [0, 1]. Convert image to uint8 prior to saving to suppress this warning.\n",
      "Lossy conversion from float32 to uint8. Range [0, 1]. Convert image to uint8 prior to saving to suppress this warning.\n",
      "Lossy conversion from float32 to uint8. Range [0, 1]. Convert image to uint8 prior to saving to suppress this warning.\n"
     ]
    },
    {
     "name": "stdout",
     "output_type": "stream",
     "text": [
      "DATASETS JSON INGEST: <Response [200]>\n",
      "ORIGDATABLOCKS JSON INGEST: <Response [200]>\n",
      "DATASETS JSON ATTACH: <Response [200]>\n",
      "DATASETS JSON ATTACH: <Response [200]>\n",
      "DATASETS JSON ATTACH: <Response [200]>\n"
     ]
    },
    {
     "name": "stderr",
     "output_type": "stream",
     "text": [
      "Lossy conversion from float32 to uint8. Range [0, 1]. Convert image to uint8 prior to saving to suppress this warning.\n"
     ]
    },
    {
     "name": "stdout",
     "output_type": "stream",
     "text": [
      "DATASETS JSON INGEST: <Response [200]>\n",
      "ORIGDATABLOCKS JSON INGEST: <Response [200]>\n",
      "DATASETS JSON ATTACH: <Response [200]>\n"
     ]
    },
    {
     "name": "stderr",
     "output_type": "stream",
     "text": [
      "Lossy conversion from float32 to uint8. Range [0, 1]. Convert image to uint8 prior to saving to suppress this warning.\n"
     ]
    },
    {
     "name": "stdout",
     "output_type": "stream",
     "text": [
      "DATASETS JSON INGEST: <Response [200]>\n",
      "ORIGDATABLOCKS JSON INGEST: <Response [200]>\n",
      "DATASETS JSON ATTACH: <Response [200]>\n"
     ]
    },
    {
     "name": "stderr",
     "output_type": "stream",
     "text": [
      "Lossy conversion from float32 to uint8. Range [0, 1]. Convert image to uint8 prior to saving to suppress this warning.\n",
      "Lossy conversion from float32 to uint8. Range [0, 1]. Convert image to uint8 prior to saving to suppress this warning.\n"
     ]
    },
    {
     "name": "stdout",
     "output_type": "stream",
     "text": [
      "DATASETS JSON INGEST: <Response [200]>\n",
      "ORIGDATABLOCKS JSON INGEST: <Response [200]>\n",
      "DATASETS JSON ATTACH: <Response [200]>\n",
      "DATASETS JSON ATTACH: <Response [200]>\n"
     ]
    },
    {
     "name": "stderr",
     "output_type": "stream",
     "text": [
      "Lossy conversion from float32 to uint8. Range [0, 1]. Convert image to uint8 prior to saving to suppress this warning.\n",
      "Lossy conversion from float32 to uint8. Range [0, 1]. Convert image to uint8 prior to saving to suppress this warning.\n"
     ]
    },
    {
     "name": "stdout",
     "output_type": "stream",
     "text": [
      "DATASETS JSON INGEST: <Response [200]>\n",
      "ORIGDATABLOCKS JSON INGEST: <Response [200]>\n",
      "DATASETS JSON ATTACH: <Response [200]>\n",
      "DATASETS JSON ATTACH: <Response [200]>\n"
     ]
    },
    {
     "name": "stderr",
     "output_type": "stream",
     "text": [
      "Lossy conversion from float32 to uint8. Range [0, 1]. Convert image to uint8 prior to saving to suppress this warning.\n"
     ]
    },
    {
     "name": "stdout",
     "output_type": "stream",
     "text": [
      "DATASETS JSON INGEST: <Response [200]>\n",
      "ORIGDATABLOCKS JSON INGEST: <Response [200]>\n",
      "DATASETS JSON ATTACH: <Response [200]>\n"
     ]
    },
    {
     "name": "stderr",
     "output_type": "stream",
     "text": [
      "Lossy conversion from float32 to uint8. Range [0, 1]. Convert image to uint8 prior to saving to suppress this warning.\n",
      "Lossy conversion from float32 to uint8. Range [0, 1]. Convert image to uint8 prior to saving to suppress this warning.\n"
     ]
    },
    {
     "name": "stdout",
     "output_type": "stream",
     "text": [
      "DATASETS JSON INGEST: <Response [200]>\n",
      "ORIGDATABLOCKS JSON INGEST: <Response [200]>\n",
      "DATASETS JSON ATTACH: <Response [200]>\n",
      "DATASETS JSON ATTACH: <Response [200]>\n"
     ]
    },
    {
     "name": "stderr",
     "output_type": "stream",
     "text": [
      "Lossy conversion from float32 to uint8. Range [0, 1]. Convert image to uint8 prior to saving to suppress this warning.\n"
     ]
    },
    {
     "name": "stdout",
     "output_type": "stream",
     "text": [
      "DATASETS JSON INGEST: <Response [200]>\n",
      "ORIGDATABLOCKS JSON INGEST: <Response [200]>\n",
      "DATASETS JSON ATTACH: <Response [200]>\n"
     ]
    },
    {
     "name": "stderr",
     "output_type": "stream",
     "text": [
      "Lossy conversion from float32 to uint8. Range [0, 1]. Convert image to uint8 prior to saving to suppress this warning.\n",
      "Lossy conversion from float32 to uint8. Range [0, 1]. Convert image to uint8 prior to saving to suppress this warning.\n"
     ]
    },
    {
     "name": "stdout",
     "output_type": "stream",
     "text": [
      "DATASETS JSON INGEST: <Response [200]>\n",
      "ORIGDATABLOCKS JSON INGEST: <Response [200]>\n",
      "DATASETS JSON ATTACH: <Response [200]>\n",
      "DATASETS JSON ATTACH: <Response [200]>\n"
     ]
    },
    {
     "name": "stderr",
     "output_type": "stream",
     "text": [
      "Lossy conversion from float32 to uint8. Range [0, 1]. Convert image to uint8 prior to saving to suppress this warning.\n"
     ]
    },
    {
     "name": "stdout",
     "output_type": "stream",
     "text": [
      "DATASETS JSON INGEST: <Response [200]>\n",
      "ORIGDATABLOCKS JSON INGEST: <Response [200]>\n",
      "DATASETS JSON ATTACH: <Response [200]>\n"
     ]
    },
    {
     "name": "stderr",
     "output_type": "stream",
     "text": [
      "C:\\Programfiles\\Anaconda3\\envs\\pyvenv\\lib\\site-packages\\PIL\\Image.py:2847: DecompressionBombWarning: Image size (106609664 pixels) exceeds limit of 89478485 pixels, could be decompression bomb DOS attack.\n",
      "  warnings.warn(\n",
      "Lossy conversion from float32 to uint8. Range [0, 1]. Convert image to uint8 prior to saving to suppress this warning.\n"
     ]
    },
    {
     "name": "stdout",
     "output_type": "stream",
     "text": [
      "DATASETS JSON INGEST: <Response [200]>\n",
      "ORIGDATABLOCKS JSON INGEST: <Response [200]>\n",
      "DATASETS JSON ATTACH: <Response [200]>\n"
     ]
    },
    {
     "name": "stderr",
     "output_type": "stream",
     "text": [
      "Lossy conversion from float32 to uint8. Range [0, 1]. Convert image to uint8 prior to saving to suppress this warning.\n",
      "Lossy conversion from float32 to uint8. Range [0, 1]. Convert image to uint8 prior to saving to suppress this warning.\n"
     ]
    },
    {
     "name": "stdout",
     "output_type": "stream",
     "text": [
      "DATASETS JSON INGEST: <Response [200]>\n",
      "ORIGDATABLOCKS JSON INGEST: <Response [200]>\n",
      "DATASETS JSON ATTACH: <Response [200]>\n",
      "DATASETS JSON ATTACH: <Response [200]>\n"
     ]
    },
    {
     "name": "stderr",
     "output_type": "stream",
     "text": [
      "Lossy conversion from float32 to uint8. Range [0, 1]. Convert image to uint8 prior to saving to suppress this warning.\n",
      "Lossy conversion from float32 to uint8. Range [0, 1]. Convert image to uint8 prior to saving to suppress this warning.\n"
     ]
    },
    {
     "name": "stdout",
     "output_type": "stream",
     "text": [
      "DATASETS JSON INGEST: <Response [200]>\n",
      "ORIGDATABLOCKS JSON INGEST: <Response [200]>\n",
      "DATASETS JSON ATTACH: <Response [200]>\n",
      "DATASETS JSON ATTACH: <Response [200]>\n"
     ]
    },
    {
     "name": "stderr",
     "output_type": "stream",
     "text": [
      "Lossy conversion from float32 to uint8. Range [0, 1]. Convert image to uint8 prior to saving to suppress this warning.\n",
      "Lossy conversion from float32 to uint8. Range [0, 1]. Convert image to uint8 prior to saving to suppress this warning.\n"
     ]
    },
    {
     "name": "stdout",
     "output_type": "stream",
     "text": [
      "DATASETS JSON INGEST: <Response [200]>\n",
      "ORIGDATABLOCKS JSON INGEST: <Response [200]>\n",
      "DATASETS JSON ATTACH: <Response [200]>\n",
      "DATASETS JSON ATTACH: <Response [200]>\n"
     ]
    },
    {
     "name": "stderr",
     "output_type": "stream",
     "text": [
      "Lossy conversion from float32 to uint8. Range [0, 1]. Convert image to uint8 prior to saving to suppress this warning.\n",
      "Lossy conversion from float32 to uint8. Range [0, 1]. Convert image to uint8 prior to saving to suppress this warning.\n",
      "Lossy conversion from float32 to uint8. Range [0, 1]. Convert image to uint8 prior to saving to suppress this warning.\n",
      "Lossy conversion from float32 to uint8. Range [0, 1]. Convert image to uint8 prior to saving to suppress this warning.\n"
     ]
    },
    {
     "name": "stdout",
     "output_type": "stream",
     "text": [
      "DATASETS JSON INGEST: <Response [200]>\n",
      "ORIGDATABLOCKS JSON INGEST: <Response [200]>\n",
      "DATASETS JSON ATTACH: <Response [200]>\n",
      "DATASETS JSON ATTACH: <Response [200]>\n",
      "DATASETS JSON ATTACH: <Response [200]>\n"
     ]
    },
    {
     "name": "stderr",
     "output_type": "stream",
     "text": [
      "OME series: incompatible page shape (2048, 2880, 3); expected (3, 2048, 2880)\n"
     ]
    },
    {
     "name": "stdout",
     "output_type": "stream",
     "text": [
      "DATASETS JSON ATTACH: <Response [200]>\n"
     ]
    },
    {
     "name": "stderr",
     "output_type": "stream",
     "text": [
      "Lossy conversion from float32 to uint8. Range [0, 1]. Convert image to uint8 prior to saving to suppress this warning.\n",
      "Lossy conversion from float32 to uint8. Range [0, 1]. Convert image to uint8 prior to saving to suppress this warning.\n",
      "OME series: incompatible page shape (2048, 2880, 3); expected (3, 2048, 2880)\n"
     ]
    },
    {
     "name": "stdout",
     "output_type": "stream",
     "text": [
      "DATASETS JSON INGEST: <Response [200]>\n",
      "ORIGDATABLOCKS JSON INGEST: <Response [200]>\n",
      "DATASETS JSON ATTACH: <Response [200]>\n"
     ]
    },
    {
     "name": "stderr",
     "output_type": "stream",
     "text": [
      "Lossy conversion from float32 to uint8. Range [0, 1]. Convert image to uint8 prior to saving to suppress this warning.\n"
     ]
    },
    {
     "name": "stdout",
     "output_type": "stream",
     "text": [
      "DATASETS JSON ATTACH: <Response [200]>\n"
     ]
    },
    {
     "name": "stderr",
     "output_type": "stream",
     "text": [
      "Lossy conversion from float32 to uint8. Range [0, 1]. Convert image to uint8 prior to saving to suppress this warning.\n"
     ]
    },
    {
     "name": "stdout",
     "output_type": "stream",
     "text": [
      "DATASETS JSON INGEST: <Response [200]>\n",
      "ORIGDATABLOCKS JSON INGEST: <Response [200]>\n",
      "DATASETS JSON ATTACH: <Response [200]>\n",
      "DATASETS JSON ATTACH: <Response [200]>\n"
     ]
    },
    {
     "name": "stderr",
     "output_type": "stream",
     "text": [
      "Lossy conversion from float32 to uint8. Range [0, 1]. Convert image to uint8 prior to saving to suppress this warning.\n",
      "Lossy conversion from float32 to uint8. Range [0, 1]. Convert image to uint8 prior to saving to suppress this warning.\n"
     ]
    },
    {
     "name": "stdout",
     "output_type": "stream",
     "text": [
      "DATASETS JSON INGEST: <Response [200]>\n",
      "ORIGDATABLOCKS JSON INGEST: <Response [200]>\n",
      "DATASETS JSON ATTACH: <Response [200]>\n"
     ]
    },
    {
     "name": "stderr",
     "output_type": "stream",
     "text": [
      "OME series: incompatible page shape (5317, 5189, 3); expected (3, 5317, 5189)\n"
     ]
    },
    {
     "name": "stdout",
     "output_type": "stream",
     "text": [
      "DATASETS JSON ATTACH: <Response [200]>\n"
     ]
    },
    {
     "name": "stderr",
     "output_type": "stream",
     "text": [
      "OME series: incompatible page shape (5317, 5189, 3); expected (3, 5317, 5189)\n",
      "Lossy conversion from float32 to uint8. Range [0, 1]. Convert image to uint8 prior to saving to suppress this warning.\n",
      "Lossy conversion from float32 to uint8. Range [0, 1]. Convert image to uint8 prior to saving to suppress this warning.\n",
      "Lossy conversion from float32 to uint8. Range [0, 1]. Convert image to uint8 prior to saving to suppress this warning.\n"
     ]
    },
    {
     "name": "stdout",
     "output_type": "stream",
     "text": [
      "DATASETS JSON INGEST: <Response [200]>\n",
      "ORIGDATABLOCKS JSON INGEST: <Response [200]>\n",
      "DATASETS JSON ATTACH: <Response [200]>\n",
      "DATASETS JSON ATTACH: <Response [200]>\n",
      "DATASETS JSON ATTACH: <Response [200]>\n"
     ]
    },
    {
     "name": "stderr",
     "output_type": "stream",
     "text": [
      "Lossy conversion from float32 to uint8. Range [0, 1]. Convert image to uint8 prior to saving to suppress this warning.\n"
     ]
    },
    {
     "name": "stdout",
     "output_type": "stream",
     "text": [
      "DATASETS JSON INGEST: <Response [200]>\n",
      "ORIGDATABLOCKS JSON INGEST: <Response [200]>\n",
      "DATASETS JSON ATTACH: <Response [200]>\n"
     ]
    },
    {
     "name": "stderr",
     "output_type": "stream",
     "text": [
      "Lossy conversion from float32 to uint8. Range [0, 1]. Convert image to uint8 prior to saving to suppress this warning.\n",
      "Lossy conversion from float32 to uint8. Range [0, 1]. Convert image to uint8 prior to saving to suppress this warning.\n"
     ]
    },
    {
     "name": "stdout",
     "output_type": "stream",
     "text": [
      "DATASETS JSON INGEST: <Response [200]>\n",
      "ORIGDATABLOCKS JSON INGEST: <Response [200]>\n",
      "DATASETS JSON ATTACH: <Response [200]>\n",
      "DATASETS JSON ATTACH: <Response [200]>\n"
     ]
    },
    {
     "name": "stderr",
     "output_type": "stream",
     "text": [
      "Lossy conversion from float32 to uint8. Range [0, 1]. Convert image to uint8 prior to saving to suppress this warning.\n",
      "Lossy conversion from float32 to uint8. Range [0, 1]. Convert image to uint8 prior to saving to suppress this warning.\n"
     ]
    },
    {
     "name": "stdout",
     "output_type": "stream",
     "text": [
      "DATASETS JSON INGEST: <Response [200]>\n",
      "ORIGDATABLOCKS JSON INGEST: <Response [200]>\n",
      "DATASETS JSON ATTACH: <Response [200]>\n",
      "DATASETS JSON ATTACH: <Response [200]>\n"
     ]
    },
    {
     "name": "stderr",
     "output_type": "stream",
     "text": [
      "Lossy conversion from float32 to uint8. Range [0, 1]. Convert image to uint8 prior to saving to suppress this warning.\n",
      "Lossy conversion from float32 to uint8. Range [0, 1]. Convert image to uint8 prior to saving to suppress this warning.\n"
     ]
    },
    {
     "name": "stdout",
     "output_type": "stream",
     "text": [
      "DATASETS JSON INGEST: <Response [200]>\n",
      "ORIGDATABLOCKS JSON INGEST: <Response [200]>\n",
      "DATASETS JSON ATTACH: <Response [200]>\n",
      "DATASETS JSON ATTACH: <Response [200]>\n"
     ]
    },
    {
     "name": "stderr",
     "output_type": "stream",
     "text": [
      "OME series: incompatible page shape (2048, 2880, 3); expected (3, 2048, 2880)\n",
      "OME series: incompatible page shape (2048, 2880, 3); expected (3, 2048, 2880)\n",
      "Lossy conversion from float32 to uint8. Range [0, 1]. Convert image to uint8 prior to saving to suppress this warning.\n",
      "Lossy conversion from float32 to uint8. Range [0, 1]. Convert image to uint8 prior to saving to suppress this warning.\n",
      "OME series: incompatible page shape (2048, 2880, 3); expected (3, 2048, 2880)\n",
      "OME series: incompatible page shape (2048, 2880, 3); expected (3, 2048, 2880)\n"
     ]
    },
    {
     "name": "stdout",
     "output_type": "stream",
     "text": [
      "DATASETS JSON INGEST: <Response [200]>\n",
      "ORIGDATABLOCKS JSON INGEST: <Response [200]>\n",
      "DATASETS JSON ATTACH: <Response [200]>\n"
     ]
    },
    {
     "name": "stderr",
     "output_type": "stream",
     "text": [
      "OME series: incompatible page shape (2048, 2880, 3); expected (3, 2048, 2880)\n"
     ]
    },
    {
     "name": "stdout",
     "output_type": "stream",
     "text": [
      "DATASETS JSON ATTACH: <Response [200]>\n"
     ]
    },
    {
     "name": "stderr",
     "output_type": "stream",
     "text": [
      "OME series: incompatible page shape (2048, 2880, 3); expected (3, 2048, 2880)\n",
      "Lossy conversion from float32 to uint8. Range [0, 1]. Convert image to uint8 prior to saving to suppress this warning.\n",
      "OME series: incompatible page shape (2048, 2880, 3); expected (3, 2048, 2880)\n",
      "OME series: incompatible page shape (2048, 2880, 3); expected (3, 2048, 2880)\n"
     ]
    },
    {
     "name": "stdout",
     "output_type": "stream",
     "text": [
      "DATASETS JSON INGEST: <Response [200]>\n",
      "ORIGDATABLOCKS JSON INGEST: <Response [200]>\n"
     ]
    },
    {
     "name": "stderr",
     "output_type": "stream",
     "text": [
      "Lossy conversion from float32 to uint8. Range [0, 1]. Convert image to uint8 prior to saving to suppress this warning.\n"
     ]
    },
    {
     "name": "stdout",
     "output_type": "stream",
     "text": [
      "DATASETS JSON ATTACH: <Response [200]>\n"
     ]
    },
    {
     "name": "stderr",
     "output_type": "stream",
     "text": [
      "Lossy conversion from float32 to uint8. Range [0, 1]. Convert image to uint8 prior to saving to suppress this warning.\n"
     ]
    },
    {
     "name": "stdout",
     "output_type": "stream",
     "text": [
      "DATASETS JSON INGEST: <Response [200]>\n",
      "ORIGDATABLOCKS JSON INGEST: <Response [200]>\n",
      "DATASETS JSON ATTACH: <Response [200]>\n"
     ]
    },
    {
     "name": "stderr",
     "output_type": "stream",
     "text": [
      "OME series: incompatible page shape (7039, 12110, 3); expected (3, 7039, 12110)\n"
     ]
    },
    {
     "name": "stdout",
     "output_type": "stream",
     "text": [
      "DATASETS JSON ATTACH: <Response [200]>\n"
     ]
    },
    {
     "name": "stderr",
     "output_type": "stream",
     "text": [
      "OME series: incompatible page shape (2048, 2880, 3); expected (3, 2048, 2880)\n",
      "OME series: incompatible page shape (7039, 12110, 3); expected (3, 7039, 12110)\n",
      "Lossy conversion from float32 to uint8. Range [0, 1]. Convert image to uint8 prior to saving to suppress this warning.\n",
      "Lossy conversion from float32 to uint8. Range [0, 1]. Convert image to uint8 prior to saving to suppress this warning.\n",
      "OME series: incompatible page shape (2048, 2880, 3); expected (3, 2048, 2880)\n"
     ]
    },
    {
     "name": "stdout",
     "output_type": "stream",
     "text": [
      "DATASETS JSON INGEST: <Response [200]>\n",
      "ORIGDATABLOCKS JSON INGEST: <Response [200]>\n",
      "DATASETS JSON ATTACH: <Response [200]>\n"
     ]
    },
    {
     "name": "stderr",
     "output_type": "stream",
     "text": [
      "OME series: incompatible page shape (2048, 2880, 3); expected (3, 2048, 2880)\n"
     ]
    },
    {
     "name": "stdout",
     "output_type": "stream",
     "text": [
      "DATASETS JSON ATTACH: <Response [200]>\n"
     ]
    },
    {
     "name": "stderr",
     "output_type": "stream",
     "text": [
      "OME series: incompatible page shape (2048, 2880, 3); expected (3, 2048, 2880)\n",
      "Lossy conversion from float32 to uint8. Range [0, 1]. Convert image to uint8 prior to saving to suppress this warning.\n",
      "Lossy conversion from float32 to uint8. Range [0, 1]. Convert image to uint8 prior to saving to suppress this warning.\n",
      "OME series: incompatible page shape (2048, 2880, 3); expected (3, 2048, 2880)\n",
      "Lossy conversion from float32 to uint8. Range [0, 1]. Convert image to uint8 prior to saving to suppress this warning.\n",
      "OME series: incompatible page shape (2048, 2880, 3); expected (3, 2048, 2880)\n",
      "Lossy conversion from float32 to uint8. Range [0, 1]. Convert image to uint8 prior to saving to suppress this warning.\n",
      "Lossy conversion from float32 to uint8. Range [0, 1]. Convert image to uint8 prior to saving to suppress this warning.\n"
     ]
    },
    {
     "name": "stdout",
     "output_type": "stream",
     "text": [
      "DATASETS JSON INGEST: <Response [200]>\n",
      "ORIGDATABLOCKS JSON INGEST: <Response [200]>\n",
      "DATASETS JSON ATTACH: <Response [200]>\n",
      "DATASETS JSON ATTACH: <Response [200]>\n",
      "DATASETS JSON ATTACH: <Response [200]>\n",
      "DATASETS JSON ATTACH: <Response [200]>\n"
     ]
    },
    {
     "name": "stderr",
     "output_type": "stream",
     "text": [
      "OME series: incompatible page shape (2048, 2880, 3); expected (3, 2048, 2880)\n"
     ]
    },
    {
     "name": "stdout",
     "output_type": "stream",
     "text": [
      "DATASETS JSON ATTACH: <Response [200]>\n"
     ]
    },
    {
     "name": "stderr",
     "output_type": "stream",
     "text": [
      "Lossy conversion from float32 to uint8. Range [0, 1]. Convert image to uint8 prior to saving to suppress this warning.\n",
      "OME series: incompatible page shape (2048, 2880, 3); expected (3, 2048, 2880)\n",
      "Lossy conversion from float32 to uint8. Range [0, 1]. Convert image to uint8 prior to saving to suppress this warning.\n"
     ]
    },
    {
     "name": "stdout",
     "output_type": "stream",
     "text": [
      "DATASETS JSON INGEST: <Response [200]>\n",
      "ORIGDATABLOCKS JSON INGEST: <Response [200]>\n",
      "DATASETS JSON ATTACH: <Response [200]>\n",
      "DATASETS JSON ATTACH: <Response [200]>\n"
     ]
    },
    {
     "name": "stderr",
     "output_type": "stream",
     "text": [
      "Lossy conversion from float32 to uint8. Range [0, 1]. Convert image to uint8 prior to saving to suppress this warning.\n"
     ]
    },
    {
     "name": "stdout",
     "output_type": "stream",
     "text": [
      "DATASETS JSON INGEST: <Response [200]>\n",
      "ORIGDATABLOCKS JSON INGEST: <Response [200]>\n",
      "DATASETS JSON ATTACH: <Response [200]>\n"
     ]
    },
    {
     "name": "stderr",
     "output_type": "stream",
     "text": [
      "Lossy conversion from float32 to uint8. Range [0, 1]. Convert image to uint8 prior to saving to suppress this warning.\n"
     ]
    },
    {
     "name": "stdout",
     "output_type": "stream",
     "text": [
      "DATASETS JSON INGEST: <Response [200]>\n",
      "ORIGDATABLOCKS JSON INGEST: <Response [200]>\n",
      "DATASETS JSON ATTACH: <Response [200]>\n"
     ]
    },
    {
     "name": "stderr",
     "output_type": "stream",
     "text": [
      "Lossy conversion from float32 to uint8. Range [0, 1]. Convert image to uint8 prior to saving to suppress this warning.\n"
     ]
    },
    {
     "name": "stdout",
     "output_type": "stream",
     "text": [
      "DATASETS JSON INGEST: <Response [200]>\n",
      "ORIGDATABLOCKS JSON INGEST: <Response [200]>\n",
      "DATASETS JSON ATTACH: <Response [200]>\n"
     ]
    },
    {
     "name": "stderr",
     "output_type": "stream",
     "text": [
      "Lossy conversion from float32 to uint8. Range [0, 1]. Convert image to uint8 prior to saving to suppress this warning.\n"
     ]
    },
    {
     "name": "stdout",
     "output_type": "stream",
     "text": [
      "DATASETS JSON INGEST: <Response [200]>\n",
      "ORIGDATABLOCKS JSON INGEST: <Response [200]>\n",
      "DATASETS JSON ATTACH: <Response [200]>\n"
     ]
    },
    {
     "name": "stderr",
     "output_type": "stream",
     "text": [
      "Lossy conversion from float32 to uint8. Range [0, 1]. Convert image to uint8 prior to saving to suppress this warning.\n"
     ]
    },
    {
     "name": "stdout",
     "output_type": "stream",
     "text": [
      "DATASETS JSON INGEST: <Response [200]>\n",
      "ORIGDATABLOCKS JSON INGEST: <Response [200]>\n"
     ]
    },
    {
     "name": "stderr",
     "output_type": "stream",
     "text": [
      "OME series: incompatible page shape (6981, 12092, 3); expected (3, 6981, 12092)\n"
     ]
    },
    {
     "name": "stdout",
     "output_type": "stream",
     "text": [
      "DATASETS JSON ATTACH: <Response [200]>\n"
     ]
    },
    {
     "name": "stderr",
     "output_type": "stream",
     "text": [
      "OME series: incompatible page shape (6981, 12092, 3); expected (3, 6981, 12092)\n",
      "Lossy conversion from float32 to uint8. Range [0, 1]. Convert image to uint8 prior to saving to suppress this warning.\n",
      "Lossy conversion from float32 to uint8. Range [0, 1]. Convert image to uint8 prior to saving to suppress this warning.\n"
     ]
    },
    {
     "name": "stdout",
     "output_type": "stream",
     "text": [
      "DATASETS JSON INGEST: <Response [200]>\n",
      "ORIGDATABLOCKS JSON INGEST: <Response [200]>\n",
      "DATASETS JSON ATTACH: <Response [200]>\n",
      "DATASETS JSON ATTACH: <Response [200]>\n"
     ]
    },
    {
     "name": "stderr",
     "output_type": "stream",
     "text": [
      "Lossy conversion from float32 to uint8. Range [0, 1]. Convert image to uint8 prior to saving to suppress this warning.\n"
     ]
    },
    {
     "name": "stdout",
     "output_type": "stream",
     "text": [
      "DATASETS JSON INGEST: <Response [200]>\n",
      "ORIGDATABLOCKS JSON INGEST: <Response [200]>\n",
      "DATASETS JSON ATTACH: <Response [200]>\n"
     ]
    },
    {
     "name": "stderr",
     "output_type": "stream",
     "text": [
      "Lossy conversion from float32 to uint8. Range [0, 1]. Convert image to uint8 prior to saving to suppress this warning.\n"
     ]
    },
    {
     "name": "stdout",
     "output_type": "stream",
     "text": [
      "DATASETS JSON INGEST: <Response [200]>\n",
      "ORIGDATABLOCKS JSON INGEST: <Response [200]>\n",
      "DATASETS JSON ATTACH: <Response [200]>\n"
     ]
    },
    {
     "name": "stderr",
     "output_type": "stream",
     "text": [
      "Lossy conversion from float32 to uint8. Range [0, 1]. Convert image to uint8 prior to saving to suppress this warning.\n"
     ]
    },
    {
     "name": "stdout",
     "output_type": "stream",
     "text": [
      "DATASETS JSON INGEST: <Response [200]>\n",
      "ORIGDATABLOCKS JSON INGEST: <Response [200]>\n",
      "DATASETS JSON ATTACH: <Response [200]>\n"
     ]
    },
    {
     "name": "stderr",
     "output_type": "stream",
     "text": [
      "Lossy conversion from float32 to uint8. Range [0, 1]. Convert image to uint8 prior to saving to suppress this warning.\n"
     ]
    },
    {
     "name": "stdout",
     "output_type": "stream",
     "text": [
      "DATASETS JSON INGEST: <Response [200]>\n",
      "ORIGDATABLOCKS JSON INGEST: <Response [200]>\n",
      "DATASETS JSON ATTACH: <Response [200]>\n"
     ]
    },
    {
     "name": "stderr",
     "output_type": "stream",
     "text": [
      "Lossy conversion from float32 to uint8. Range [0, 1]. Convert image to uint8 prior to saving to suppress this warning.\n"
     ]
    },
    {
     "name": "stdout",
     "output_type": "stream",
     "text": [
      "DATASETS JSON INGEST: <Response [200]>\n",
      "ORIGDATABLOCKS JSON INGEST: <Response [200]>\n",
      "DATASETS JSON ATTACH: <Response [200]>\n"
     ]
    },
    {
     "name": "stderr",
     "output_type": "stream",
     "text": [
      "Lossy conversion from float32 to uint8. Range [0, 1]. Convert image to uint8 prior to saving to suppress this warning.\n"
     ]
    },
    {
     "name": "stdout",
     "output_type": "stream",
     "text": [
      "DATASETS JSON INGEST: <Response [200]>\n",
      "ORIGDATABLOCKS JSON INGEST: <Response [200]>\n",
      "DATASETS JSON ATTACH: <Response [200]>\n"
     ]
    },
    {
     "name": "stderr",
     "output_type": "stream",
     "text": [
      "Lossy conversion from float32 to uint8. Range [0, 1]. Convert image to uint8 prior to saving to suppress this warning.\n"
     ]
    },
    {
     "name": "stdout",
     "output_type": "stream",
     "text": [
      "DATASETS JSON INGEST: <Response [200]>\n",
      "ORIGDATABLOCKS JSON INGEST: <Response [200]>\n",
      "DATASETS JSON ATTACH: <Response [200]>\n"
     ]
    },
    {
     "name": "stderr",
     "output_type": "stream",
     "text": [
      "Lossy conversion from float32 to uint8. Range [0, 1]. Convert image to uint8 prior to saving to suppress this warning.\n"
     ]
    },
    {
     "name": "stdout",
     "output_type": "stream",
     "text": [
      "DATASETS JSON INGEST: <Response [200]>\n",
      "ORIGDATABLOCKS JSON INGEST: <Response [200]>\n",
      "DATASETS JSON ATTACH: <Response [200]>\n"
     ]
    },
    {
     "name": "stderr",
     "output_type": "stream",
     "text": [
      "Lossy conversion from float32 to uint8. Range [0, 1]. Convert image to uint8 prior to saving to suppress this warning.\n"
     ]
    },
    {
     "name": "stdout",
     "output_type": "stream",
     "text": [
      "DATASETS JSON INGEST: <Response [200]>\n",
      "ORIGDATABLOCKS JSON INGEST: <Response [200]>\n",
      "DATASETS JSON ATTACH: <Response [200]>\n"
     ]
    },
    {
     "name": "stderr",
     "output_type": "stream",
     "text": [
      "Lossy conversion from float32 to uint8. Range [0, 1]. Convert image to uint8 prior to saving to suppress this warning.\n"
     ]
    },
    {
     "name": "stdout",
     "output_type": "stream",
     "text": [
      "DATASETS JSON INGEST: <Response [200]>\n",
      "ORIGDATABLOCKS JSON INGEST: <Response [200]>\n",
      "DATASETS JSON ATTACH: <Response [200]>\n"
     ]
    },
    {
     "name": "stderr",
     "output_type": "stream",
     "text": [
      "Lossy conversion from float32 to uint8. Range [0, 1]. Convert image to uint8 prior to saving to suppress this warning.\n"
     ]
    },
    {
     "name": "stdout",
     "output_type": "stream",
     "text": [
      "DATASETS JSON INGEST: <Response [200]>\n",
      "ORIGDATABLOCKS JSON INGEST: <Response [200]>\n",
      "DATASETS JSON ATTACH: <Response [200]>\n"
     ]
    },
    {
     "name": "stderr",
     "output_type": "stream",
     "text": [
      "Lossy conversion from float32 to uint8. Range [0, 1]. Convert image to uint8 prior to saving to suppress this warning.\n"
     ]
    },
    {
     "name": "stdout",
     "output_type": "stream",
     "text": [
      "DATASETS JSON INGEST: <Response [200]>\n",
      "ORIGDATABLOCKS JSON INGEST: <Response [200]>\n",
      "DATASETS JSON ATTACH: <Response [200]>\n"
     ]
    },
    {
     "name": "stderr",
     "output_type": "stream",
     "text": [
      "Lossy conversion from float32 to uint8. Range [0, 1]. Convert image to uint8 prior to saving to suppress this warning.\n"
     ]
    },
    {
     "name": "stdout",
     "output_type": "stream",
     "text": [
      "DATASETS JSON INGEST: <Response [200]>\n",
      "ORIGDATABLOCKS JSON INGEST: <Response [200]>\n",
      "DATASETS JSON ATTACH: <Response [200]>\n"
     ]
    },
    {
     "name": "stderr",
     "output_type": "stream",
     "text": [
      "Lossy conversion from float32 to uint8. Range [0, 1]. Convert image to uint8 prior to saving to suppress this warning.\n"
     ]
    },
    {
     "name": "stdout",
     "output_type": "stream",
     "text": [
      "DATASETS JSON INGEST: <Response [200]>\n",
      "ORIGDATABLOCKS JSON INGEST: <Response [200]>\n",
      "DATASETS JSON ATTACH: <Response [200]>\n"
     ]
    },
    {
     "name": "stderr",
     "output_type": "stream",
     "text": [
      "Lossy conversion from float32 to uint8. Range [0, 1]. Convert image to uint8 prior to saving to suppress this warning.\n"
     ]
    },
    {
     "name": "stdout",
     "output_type": "stream",
     "text": [
      "DATASETS JSON INGEST: <Response [200]>\n",
      "ORIGDATABLOCKS JSON INGEST: <Response [200]>\n",
      "DATASETS JSON ATTACH: <Response [200]>\n"
     ]
    },
    {
     "name": "stderr",
     "output_type": "stream",
     "text": [
      "Lossy conversion from float32 to uint8. Range [0, 1]. Convert image to uint8 prior to saving to suppress this warning.\n"
     ]
    },
    {
     "name": "stdout",
     "output_type": "stream",
     "text": [
      "DATASETS JSON INGEST: <Response [200]>\n",
      "ORIGDATABLOCKS JSON INGEST: <Response [200]>\n",
      "DATASETS JSON ATTACH: <Response [200]>\n"
     ]
    },
    {
     "name": "stderr",
     "output_type": "stream",
     "text": [
      "Lossy conversion from float32 to uint8. Range [0, 1]. Convert image to uint8 prior to saving to suppress this warning.\n"
     ]
    },
    {
     "name": "stdout",
     "output_type": "stream",
     "text": [
      "DATASETS JSON INGEST: <Response [200]>\n",
      "ORIGDATABLOCKS JSON INGEST: <Response [200]>\n",
      "DATASETS JSON ATTACH: <Response [200]>\n"
     ]
    },
    {
     "name": "stderr",
     "output_type": "stream",
     "text": [
      "Lossy conversion from float32 to uint8. Range [0, 1]. Convert image to uint8 prior to saving to suppress this warning.\n"
     ]
    },
    {
     "name": "stdout",
     "output_type": "stream",
     "text": [
      "DATASETS JSON INGEST: <Response [200]>\n",
      "ORIGDATABLOCKS JSON INGEST: <Response [200]>\n",
      "DATASETS JSON ATTACH: <Response [200]>\n"
     ]
    },
    {
     "name": "stderr",
     "output_type": "stream",
     "text": [
      "Lossy conversion from float32 to uint8. Range [0, 1]. Convert image to uint8 prior to saving to suppress this warning.\n"
     ]
    },
    {
     "name": "stdout",
     "output_type": "stream",
     "text": [
      "DATASETS JSON INGEST: <Response [200]>\n",
      "ORIGDATABLOCKS JSON INGEST: <Response [200]>\n",
      "DATASETS JSON ATTACH: <Response [200]>\n"
     ]
    },
    {
     "name": "stderr",
     "output_type": "stream",
     "text": [
      "Lossy conversion from float32 to uint8. Range [0, 1]. Convert image to uint8 prior to saving to suppress this warning.\n"
     ]
    },
    {
     "name": "stdout",
     "output_type": "stream",
     "text": [
      "DATASETS JSON INGEST: <Response [200]>\n",
      "ORIGDATABLOCKS JSON INGEST: <Response [200]>\n",
      "DATASETS JSON ATTACH: <Response [200]>\n"
     ]
    },
    {
     "name": "stderr",
     "output_type": "stream",
     "text": [
      "Lossy conversion from float32 to uint8. Range [0, 1]. Convert image to uint8 prior to saving to suppress this warning.\n"
     ]
    },
    {
     "name": "stdout",
     "output_type": "stream",
     "text": [
      "DATASETS JSON INGEST: <Response [200]>\n",
      "ORIGDATABLOCKS JSON INGEST: <Response [200]>\n",
      "DATASETS JSON ATTACH: <Response [200]>\n"
     ]
    },
    {
     "name": "stderr",
     "output_type": "stream",
     "text": [
      "Lossy conversion from float32 to uint8. Range [0, 1]. Convert image to uint8 prior to saving to suppress this warning.\n"
     ]
    },
    {
     "name": "stdout",
     "output_type": "stream",
     "text": [
      "DATASETS JSON INGEST: <Response [200]>\n",
      "ORIGDATABLOCKS JSON INGEST: <Response [200]>\n"
     ]
    },
    {
     "name": "stderr",
     "output_type": "stream",
     "text": [
      "OME series: incompatible page shape (6972, 12114, 3); expected (3, 6972, 12114)\n"
     ]
    },
    {
     "name": "stdout",
     "output_type": "stream",
     "text": [
      "DATASETS JSON ATTACH: <Response [200]>\n"
     ]
    },
    {
     "name": "stderr",
     "output_type": "stream",
     "text": [
      "OME series: incompatible page shape (6972, 12114, 3); expected (3, 6972, 12114)\n",
      "Lossy conversion from float32 to uint8. Range [0, 1]. Convert image to uint8 prior to saving to suppress this warning.\n"
     ]
    },
    {
     "name": "stdout",
     "output_type": "stream",
     "text": [
      "DATASETS JSON INGEST: <Response [200]>\n",
      "ORIGDATABLOCKS JSON INGEST: <Response [200]>\n",
      "DATASETS JSON ATTACH: <Response [200]>\n"
     ]
    },
    {
     "name": "stderr",
     "output_type": "stream",
     "text": [
      "Lossy conversion from float32 to uint8. Range [0, 1]. Convert image to uint8 prior to saving to suppress this warning.\n"
     ]
    },
    {
     "name": "stdout",
     "output_type": "stream",
     "text": [
      "DATASETS JSON INGEST: <Response [200]>\n",
      "ORIGDATABLOCKS JSON INGEST: <Response [200]>\n",
      "DATASETS JSON ATTACH: <Response [200]>\n"
     ]
    },
    {
     "name": "stderr",
     "output_type": "stream",
     "text": [
      "Lossy conversion from float32 to uint8. Range [0, 1]. Convert image to uint8 prior to saving to suppress this warning.\n"
     ]
    },
    {
     "name": "stdout",
     "output_type": "stream",
     "text": [
      "DATASETS JSON INGEST: <Response [200]>\n",
      "ORIGDATABLOCKS JSON INGEST: <Response [200]>\n",
      "DATASETS JSON ATTACH: <Response [200]>\n"
     ]
    },
    {
     "name": "stderr",
     "output_type": "stream",
     "text": [
      "Lossy conversion from float32 to uint8. Range [0, 1]. Convert image to uint8 prior to saving to suppress this warning.\n"
     ]
    },
    {
     "name": "stdout",
     "output_type": "stream",
     "text": [
      "DATASETS JSON INGEST: <Response [200]>\n",
      "ORIGDATABLOCKS JSON INGEST: <Response [200]>\n",
      "DATASETS JSON ATTACH: <Response [200]>\n"
     ]
    },
    {
     "name": "stderr",
     "output_type": "stream",
     "text": [
      "Lossy conversion from float32 to uint8. Range [0, 1]. Convert image to uint8 prior to saving to suppress this warning.\n"
     ]
    },
    {
     "name": "stdout",
     "output_type": "stream",
     "text": [
      "DATASETS JSON INGEST: <Response [200]>\n",
      "ORIGDATABLOCKS JSON INGEST: <Response [200]>\n",
      "DATASETS JSON ATTACH: <Response [200]>\n"
     ]
    },
    {
     "name": "stderr",
     "output_type": "stream",
     "text": [
      "Lossy conversion from float32 to uint8. Range [0, 1]. Convert image to uint8 prior to saving to suppress this warning.\n"
     ]
    },
    {
     "name": "stdout",
     "output_type": "stream",
     "text": [
      "DATASETS JSON INGEST: <Response [200]>\n",
      "ORIGDATABLOCKS JSON INGEST: <Response [200]>\n",
      "DATASETS JSON ATTACH: <Response [200]>\n"
     ]
    },
    {
     "name": "stderr",
     "output_type": "stream",
     "text": [
      "Lossy conversion from float32 to uint8. Range [0, 1]. Convert image to uint8 prior to saving to suppress this warning.\n"
     ]
    },
    {
     "name": "stdout",
     "output_type": "stream",
     "text": [
      "DATASETS JSON INGEST: <Response [200]>\n",
      "ORIGDATABLOCKS JSON INGEST: <Response [200]>\n"
     ]
    },
    {
     "name": "stderr",
     "output_type": "stream",
     "text": [
      "OME series: incompatible page shape (6948, 12135, 3); expected (3, 6948, 12135)\n"
     ]
    },
    {
     "name": "stdout",
     "output_type": "stream",
     "text": [
      "DATASETS JSON ATTACH: <Response [200]>\n"
     ]
    },
    {
     "name": "stderr",
     "output_type": "stream",
     "text": [
      "OME series: incompatible page shape (6948, 12135, 3); expected (3, 6948, 12135)\n",
      "Lossy conversion from float32 to uint8. Range [0, 1]. Convert image to uint8 prior to saving to suppress this warning.\n",
      "Lossy conversion from float32 to uint8. Range [0, 1]. Convert image to uint8 prior to saving to suppress this warning.\n"
     ]
    },
    {
     "name": "stdout",
     "output_type": "stream",
     "text": [
      "DATASETS JSON INGEST: <Response [200]>\n",
      "ORIGDATABLOCKS JSON INGEST: <Response [200]>\n",
      "DATASETS JSON ATTACH: <Response [200]>\n"
     ]
    },
    {
     "name": "stderr",
     "output_type": "stream",
     "text": [
      "OME series: incompatible page shape (5422, 12110, 3); expected (3, 5422, 12110)\n",
      "OME series: incompatible page shape (5422, 12110, 3); expected (3, 5422, 12110)\n"
     ]
    },
    {
     "name": "stdout",
     "output_type": "stream",
     "text": [
      "DATASETS JSON ATTACH: <Response [200]>\n"
     ]
    },
    {
     "name": "stderr",
     "output_type": "stream",
     "text": [
      "Lossy conversion from float32 to uint8. Range [0, 1]. Convert image to uint8 prior to saving to suppress this warning.\n"
     ]
    },
    {
     "name": "stdout",
     "output_type": "stream",
     "text": [
      "DATASETS JSON INGEST: <Response [200]>\n",
      "ORIGDATABLOCKS JSON INGEST: <Response [200]>\n"
     ]
    },
    {
     "name": "stderr",
     "output_type": "stream",
     "text": [
      "OME series: incompatible page shape (6998, 9788, 3); expected (3, 6998, 9788)\n"
     ]
    },
    {
     "name": "stdout",
     "output_type": "stream",
     "text": [
      "DATASETS JSON ATTACH: <Response [200]>\n"
     ]
    },
    {
     "name": "stderr",
     "output_type": "stream",
     "text": [
      "OME series: incompatible page shape (6998, 9788, 3); expected (3, 6998, 9788)\n",
      "Lossy conversion from float32 to uint8. Range [0, 1]. Convert image to uint8 prior to saving to suppress this warning.\n"
     ]
    },
    {
     "name": "stdout",
     "output_type": "stream",
     "text": [
      "DATASETS JSON INGEST: <Response [200]>\n",
      "ORIGDATABLOCKS JSON INGEST: <Response [200]>\n",
      "DATASETS JSON ATTACH: <Response [200]>\n"
     ]
    },
    {
     "name": "stderr",
     "output_type": "stream",
     "text": [
      "OME series: incompatible page shape (5342, 9808, 3); expected (3, 5342, 9808)\n",
      "Lossy conversion from float32 to uint8. Range [0, 1]. Convert image to uint8 prior to saving to suppress this warning.\n",
      "OME series: incompatible page shape (5342, 9808, 3); expected (3, 5342, 9808)\n",
      "Lossy conversion from float32 to uint8. Range [0, 1]. Convert image to uint8 prior to saving to suppress this warning.\n"
     ]
    },
    {
     "name": "stdout",
     "output_type": "stream",
     "text": [
      "DATASETS JSON INGEST: <Response [200]>\n",
      "ORIGDATABLOCKS JSON INGEST: <Response [200]>\n",
      "DATASETS JSON ATTACH: <Response [200]>\n",
      "DATASETS JSON ATTACH: <Response [200]>\n"
     ]
    },
    {
     "name": "stderr",
     "output_type": "stream",
     "text": [
      "Lossy conversion from float32 to uint8. Range [0, 1]. Convert image to uint8 prior to saving to suppress this warning.\n",
      "Lossy conversion from float32 to uint8. Range [0, 1]. Convert image to uint8 prior to saving to suppress this warning.\n"
     ]
    },
    {
     "name": "stdout",
     "output_type": "stream",
     "text": [
      "DATASETS JSON INGEST: <Response [200]>\n",
      "ORIGDATABLOCKS JSON INGEST: <Response [200]>\n",
      "DATASETS JSON ATTACH: <Response [200]>\n",
      "DATASETS JSON ATTACH: <Response [200]>\n"
     ]
    },
    {
     "name": "stderr",
     "output_type": "stream",
     "text": [
      "Lossy conversion from float32 to uint8. Range [0, 1]. Convert image to uint8 prior to saving to suppress this warning.\n"
     ]
    },
    {
     "name": "stdout",
     "output_type": "stream",
     "text": [
      "DATASETS JSON INGEST: <Response [200]>\n",
      "ORIGDATABLOCKS JSON INGEST: <Response [200]>\n",
      "DATASETS JSON ATTACH: <Response [200]>\n"
     ]
    },
    {
     "name": "stderr",
     "output_type": "stream",
     "text": [
      "Lossy conversion from float32 to uint8. Range [0, 1]. Convert image to uint8 prior to saving to suppress this warning.\n"
     ]
    },
    {
     "name": "stdout",
     "output_type": "stream",
     "text": [
      "DATASETS JSON INGEST: <Response [200]>\n",
      "ORIGDATABLOCKS JSON INGEST: <Response [200]>\n",
      "DATASETS JSON ATTACH: <Response [200]>\n"
     ]
    },
    {
     "name": "stderr",
     "output_type": "stream",
     "text": [
      "Lossy conversion from float32 to uint8. Range [0, 1]. Convert image to uint8 prior to saving to suppress this warning.\n"
     ]
    },
    {
     "name": "stdout",
     "output_type": "stream",
     "text": [
      "DATASETS JSON INGEST: <Response [200]>\n",
      "ORIGDATABLOCKS JSON INGEST: <Response [200]>\n",
      "DATASETS JSON ATTACH: <Response [200]>\n"
     ]
    },
    {
     "name": "stderr",
     "output_type": "stream",
     "text": [
      "Lossy conversion from float32 to uint8. Range [0, 1]. Convert image to uint8 prior to saving to suppress this warning.\n"
     ]
    },
    {
     "name": "stdout",
     "output_type": "stream",
     "text": [
      "DATASETS JSON INGEST: <Response [200]>\n",
      "ORIGDATABLOCKS JSON INGEST: <Response [200]>\n",
      "DATASETS JSON ATTACH: <Response [200]>\n"
     ]
    },
    {
     "name": "stderr",
     "output_type": "stream",
     "text": [
      "Lossy conversion from float32 to uint8. Range [0, 1]. Convert image to uint8 prior to saving to suppress this warning.\n"
     ]
    },
    {
     "name": "stdout",
     "output_type": "stream",
     "text": [
      "DATASETS JSON INGEST: <Response [200]>\n",
      "ORIGDATABLOCKS JSON INGEST: <Response [200]>\n"
     ]
    },
    {
     "name": "stderr",
     "output_type": "stream",
     "text": [
      "OME series: incompatible page shape (8620, 14404, 3); expected (3, 8620, 14404)\n"
     ]
    },
    {
     "name": "stdout",
     "output_type": "stream",
     "text": [
      "DATASETS JSON ATTACH: <Response [200]>\n"
     ]
    },
    {
     "name": "stderr",
     "output_type": "stream",
     "text": [
      "OME series: incompatible page shape (8620, 14404, 3); expected (3, 8620, 14404)\n",
      "Lossy conversion from float32 to uint8. Range [0, 1]. Convert image to uint8 prior to saving to suppress this warning.\n",
      "Lossy conversion from float32 to uint8. Range [0, 1]. Convert image to uint8 prior to saving to suppress this warning.\n"
     ]
    },
    {
     "name": "stdout",
     "output_type": "stream",
     "text": [
      "DATASETS JSON INGEST: <Response [200]>\n",
      "ORIGDATABLOCKS JSON INGEST: <Response [200]>\n",
      "DATASETS JSON ATTACH: <Response [200]>\n",
      "DATASETS JSON ATTACH: <Response [200]>\n"
     ]
    },
    {
     "name": "stderr",
     "output_type": "stream",
     "text": [
      "Lossy conversion from float32 to uint8. Range [0, 1]. Convert image to uint8 prior to saving to suppress this warning.\n"
     ]
    },
    {
     "name": "stdout",
     "output_type": "stream",
     "text": [
      "DATASETS JSON INGEST: <Response [200]>\n",
      "ORIGDATABLOCKS JSON INGEST: <Response [200]>\n",
      "DATASETS JSON ATTACH: <Response [200]>\n"
     ]
    },
    {
     "name": "stderr",
     "output_type": "stream",
     "text": [
      "Lossy conversion from float32 to uint8. Range [0, 1]. Convert image to uint8 prior to saving to suppress this warning.\n"
     ]
    },
    {
     "name": "stdout",
     "output_type": "stream",
     "text": [
      "DATASETS JSON INGEST: <Response [200]>\n",
      "ORIGDATABLOCKS JSON INGEST: <Response [200]>\n"
     ]
    },
    {
     "name": "stderr",
     "output_type": "stream",
     "text": [
      "OME series: incompatible page shape (7001, 12168, 3); expected (3, 7001, 12168)\n"
     ]
    },
    {
     "name": "stdout",
     "output_type": "stream",
     "text": [
      "DATASETS JSON ATTACH: <Response [200]>\n"
     ]
    },
    {
     "name": "stderr",
     "output_type": "stream",
     "text": [
      "OME series: incompatible page shape (7001, 12168, 3); expected (3, 7001, 12168)\n",
      "Lossy conversion from float32 to uint8. Range [0, 1]. Convert image to uint8 prior to saving to suppress this warning.\n",
      "Lossy conversion from float32 to uint8. Range [0, 1]. Convert image to uint8 prior to saving to suppress this warning.\n"
     ]
    },
    {
     "name": "stdout",
     "output_type": "stream",
     "text": [
      "DATASETS JSON INGEST: <Response [200]>\n",
      "ORIGDATABLOCKS JSON INGEST: <Response [200]>\n",
      "DATASETS JSON ATTACH: <Response [200]>\n"
     ]
    },
    {
     "name": "stderr",
     "output_type": "stream",
     "text": [
      "OME series: incompatible page shape (5371, 9827, 3); expected (3, 5371, 9827)\n",
      "OME series: incompatible page shape (5371, 9827, 3); expected (3, 5371, 9827)\n"
     ]
    },
    {
     "name": "stdout",
     "output_type": "stream",
     "text": [
      "DATASETS JSON ATTACH: <Response [200]>\n"
     ]
    },
    {
     "name": "stderr",
     "output_type": "stream",
     "text": [
      "Lossy conversion from float32 to uint8. Range [0, 1]. Convert image to uint8 prior to saving to suppress this warning.\n"
     ]
    },
    {
     "name": "stdout",
     "output_type": "stream",
     "text": [
      "DATASETS JSON INGEST: <Response [200]>\n",
      "ORIGDATABLOCKS JSON INGEST: <Response [200]>\n",
      "DATASETS JSON ATTACH: <Response [200]>\n"
     ]
    },
    {
     "name": "stderr",
     "output_type": "stream",
     "text": [
      "Lossy conversion from float32 to uint8. Range [0, 1]. Convert image to uint8 prior to saving to suppress this warning.\n"
     ]
    },
    {
     "name": "stdout",
     "output_type": "stream",
     "text": [
      "DATASETS JSON INGEST: <Response [200]>\n",
      "ORIGDATABLOCKS JSON INGEST: <Response [200]>\n"
     ]
    },
    {
     "name": "stderr",
     "output_type": "stream",
     "text": [
      "OME series: incompatible page shape (8617, 14423, 3); expected (3, 8617, 14423)\n"
     ]
    },
    {
     "name": "stdout",
     "output_type": "stream",
     "text": [
      "DATASETS JSON ATTACH: <Response [200]>\n"
     ]
    },
    {
     "name": "stderr",
     "output_type": "stream",
     "text": [
      "OME series: incompatible page shape (8617, 14423, 3); expected (3, 8617, 14423)\n",
      "Lossy conversion from float32 to uint8. Range [0, 1]. Convert image to uint8 prior to saving to suppress this warning.\n"
     ]
    },
    {
     "name": "stdout",
     "output_type": "stream",
     "text": [
      "DATASETS JSON INGEST: <Response [200]>\n",
      "ORIGDATABLOCKS JSON INGEST: <Response [200]>\n",
      "DATASETS JSON ATTACH: <Response [200]>\n"
     ]
    },
    {
     "name": "stderr",
     "output_type": "stream",
     "text": [
      "Lossy conversion from float32 to uint8. Range [0, 1]. Convert image to uint8 prior to saving to suppress this warning.\n"
     ]
    },
    {
     "name": "stdout",
     "output_type": "stream",
     "text": [
      "DATASETS JSON INGEST: <Response [200]>\n",
      "ORIGDATABLOCKS JSON INGEST: <Response [200]>\n",
      "DATASETS JSON ATTACH: <Response [200]>\n"
     ]
    },
    {
     "name": "stderr",
     "output_type": "stream",
     "text": [
      "Lossy conversion from float32 to uint8. Range [0, 1]. Convert image to uint8 prior to saving to suppress this warning.\n"
     ]
    },
    {
     "name": "stdout",
     "output_type": "stream",
     "text": [
      "DATASETS JSON INGEST: <Response [200]>\n",
      "ORIGDATABLOCKS JSON INGEST: <Response [200]>\n",
      "DATASETS JSON ATTACH: <Response [200]>\n"
     ]
    },
    {
     "name": "stderr",
     "output_type": "stream",
     "text": [
      "Lossy conversion from float32 to uint8. Range [0, 1]. Convert image to uint8 prior to saving to suppress this warning.\n"
     ]
    },
    {
     "name": "stdout",
     "output_type": "stream",
     "text": [
      "DATASETS JSON INGEST: <Response [200]>\n",
      "ORIGDATABLOCKS JSON INGEST: <Response [200]>\n",
      "DATASETS JSON ATTACH: <Response [200]>\n"
     ]
    },
    {
     "name": "stderr",
     "output_type": "stream",
     "text": [
      "Lossy conversion from float32 to uint8. Range [0, 1]. Convert image to uint8 prior to saving to suppress this warning.\n"
     ]
    },
    {
     "name": "stdout",
     "output_type": "stream",
     "text": [
      "DATASETS JSON INGEST: <Response [200]>\n",
      "ORIGDATABLOCKS JSON INGEST: <Response [200]>\n"
     ]
    },
    {
     "name": "stderr",
     "output_type": "stream",
     "text": [
      "OME series: incompatible page shape (5351, 12123, 3); expected (3, 5351, 12123)\n"
     ]
    },
    {
     "name": "stdout",
     "output_type": "stream",
     "text": [
      "DATASETS JSON ATTACH: <Response [200]>\n"
     ]
    },
    {
     "name": "stderr",
     "output_type": "stream",
     "text": [
      "OME series: incompatible page shape (5351, 12123, 3); expected (3, 5351, 12123)\n",
      "Lossy conversion from float32 to uint8. Range [0, 1]. Convert image to uint8 prior to saving to suppress this warning.\n"
     ]
    },
    {
     "name": "stdout",
     "output_type": "stream",
     "text": [
      "DATASETS JSON INGEST: <Response [200]>\n",
      "ORIGDATABLOCKS JSON INGEST: <Response [200]>\n",
      "DATASETS JSON ATTACH: <Response [200]>\n"
     ]
    }
   ],
   "source": [
    "failed = {}\n",
    "for hid, filename_list in images.items():\n",
    "    if filename_list:        \n",
    "        smb = ScientificMetadataBuilder()\n",
    "        mins = {}\n",
    "        maxs = {}\n",
    "        \n",
    "        full_size = 0\n",
    "        for img in filename_list:\n",
    "            img_array, img_format, _ = load_numpy_from_image(PATH + \"/\" + img)\n",
    "            if img_array is not None:\n",
    "                full_size += file_size(PATH, img)\n",
    "                smb.add_value(img_format + \" datatypes\", img_array.dtype.name) \n",
    "                for i in range(len(img_array.shape)):\n",
    "                    key = img_format + \" shape[\" + str(i) + \"]\"\n",
    "                    if key not in mins.keys():\n",
    "                        vmin = np.inf\n",
    "                        vmax = -np.inf\n",
    "                    else:\n",
    "                        vmin = mins[key]\n",
    "                        vmax = maxs[key]\n",
    "                    mins[key] = min(vmin, img_array.shape[i])\n",
    "                    maxs[key] = max(vmax, img_array.shape[i])\n",
    "\n",
    "        for key in mins.keys():\n",
    "            smb.set_value(key + \" min\", mins[key])\n",
    "            smb.set_value(key + \" max\", maxs[key])\n",
    "        \n",
    "        sampleid = histoid_sample[hid]\n",
    "        \n",
    "        dataset_name = \"HZG/{}/{}/{}\".format(hid, sampleid, RAW)\n",
    "        proposal_dict = {PROPOSAL_ID: NA, LASTNAME: NA}\n",
    "        \n",
    "        creation_time = get_creation_date(PATH + \"/\" + filename_list[0])\n",
    "\n",
    "        # 1. create dataset\n",
    "        dataset_dict = HistoRawDatasetBuilder(base_keywords=[\"histology\"]).\\\n",
    "            args(args).\\\n",
    "            proposal_id(proposal_dict[PROPOSAL_ID]).\\\n",
    "            owner(get_ownername(PATH)).\\\n",
    "            source_folder(PATH).\\\n",
    "            is_published(False).\\\n",
    "            size(full_size).\\\n",
    "            principal_investigator(proposal_dict[LASTNAME]).\\\n",
    "            dataset_name(dataset_name).\\\n",
    "            creation_location(\"HZG\").\\\n",
    "            creation_time(creation_time).\\\n",
    "            scientific_metadata(smb.build()).\\\n",
    "            number_of_files(len(filename_list)).\\\n",
    "            sample_id(sampleid).\\\n",
    "            build()\n",
    "\n",
    "        # 2. create data file lists\n",
    "        datablock_dict = OrigDatablockBuilder(dataset_dict[SOURCE_FOLDER], win_fs=True).\\\n",
    "            args(args).\\\n",
    "            data_file_list(filename_list).\\\n",
    "            size(dataset_dict[SIZE]).\\\n",
    "            dataset_id(dataset_dict).\\\n",
    "            build()\n",
    "        \n",
    "        # 3. create attachments\n",
    "        attachment_dicts = []\n",
    "        images_filename_list = [fn for fn in filename_list if TYPES[get_ext(fn)] in SUPPORTED_IMAGE_TYPES]\n",
    "        select_filename_list = [fn for fn in images_filename_list if not any([pattern in fn for pattern in FILENAME_IGNORE_PATTERN])]\n",
    "        sorted_filename_list = sorted(select_filename_list)\n",
    "        len_list = len(sorted_filename_list)\n",
    "        if args.nattachments > 0 and len_list > 0:\n",
    "            step = len_list//args.nattachments\n",
    "            if step == 0:\n",
    "                step = 1\n",
    "            for i in range(0, len_list, step):\n",
    "                full_path = \"{}/{}\".format(dataset_dict[SOURCE_FOLDER], sorted_filename_list[i])\n",
    "                img_array, _, _ = load_numpy_from_image(full_path)\n",
    "                if img_array is None:\n",
    "                    failed[full_path] = \"Failed to add attachment due to file format, or shape, or ...\"\n",
    "                else:\n",
    "                    image_uri = get_uri_from_numpy(img_array, target_size=(args.thumbnailsize, args.thumbnailsize))\n",
    "                    ab = AttachmentBuilder().\\\n",
    "                        args(args).\\\n",
    "                        thumbnail(image_uri).\\\n",
    "                        caption(sorted_filename_list[i]).\\\n",
    "                        proposal_id(proposal_dict[PROPOSAL_ID])\n",
    "                    attachment_dicts += [ab.build()]\n",
    "        \n",
    "        # 4. Add all to Scicat\n",
    "        failed.update(_api_dataset_ingest(args, dataset_dict, datablock_dict, attachment_dicts))"
   ]
  },
  {
   "cell_type": "code",
   "execution_count": 5,
   "metadata": {},
   "outputs": [
    {
     "name": "stdout",
     "output_type": "stream",
     "text": [
      "{'D:/PowerFolders/Synchroload MgBone/Histologies/Mg-10Gd_12w_17019-0005_66R.tif': 'Failed '\n",
      "                                                                                  'to '\n",
      "                                                                                  'add '\n",
      "                                                                                  'attachment '\n",
      "                                                                                  'due '\n",
      "                                                                                  'to '\n",
      "                                                                                  'file '\n",
      "                                                                                  'format, '\n",
      "                                                                                  'or '\n",
      "                                                                                  'shape, '\n",
      "                                                                                  'or '\n",
      "                                                                                  '...',\n",
      " 'D:/PowerFolders/Synchroload MgBone/Histologies/Mg-10Gd_4w_17032-0003_99R.tif': 'Failed '\n",
      "                                                                                 'to '\n",
      "                                                                                 'add '\n",
      "                                                                                 'attachment '\n",
      "                                                                                 'due '\n",
      "                                                                                 'to '\n",
      "                                                                                 'file '\n",
      "                                                                                 'format, '\n",
      "                                                                                 'or '\n",
      "                                                                                 'shape, '\n",
      "                                                                                 'or '\n",
      "                                                                                 '...',\n",
      " 'D:/PowerFolders/Synchroload MgBone/Histologies/Mg-10Gd_4w_17032-0005_99R.tif': 'Failed '\n",
      "                                                                                 'to '\n",
      "                                                                                 'add '\n",
      "                                                                                 'attachment '\n",
      "                                                                                 'due '\n",
      "                                                                                 'to '\n",
      "                                                                                 'file '\n",
      "                                                                                 'format, '\n",
      "                                                                                 'or '\n",
      "                                                                                 'shape, '\n",
      "                                                                                 'or '\n",
      "                                                                                 '...',\n",
      " 'D:/PowerFolders/Synchroload MgBone/Histologies/Mg-10Gd_8w_17031-0002_82R.tif': 'Failed '\n",
      "                                                                                 'to '\n",
      "                                                                                 'add '\n",
      "                                                                                 'attachment '\n",
      "                                                                                 'due '\n",
      "                                                                                 'to '\n",
      "                                                                                 'file '\n",
      "                                                                                 'format, '\n",
      "                                                                                 'or '\n",
      "                                                                                 'shape, '\n",
      "                                                                                 'or '\n",
      "                                                                                 '...',\n",
      " 'D:/PowerFolders/Synchroload MgBone/Histologies/Peek_12w_17029-0002_48L.tif': 'Failed '\n",
      "                                                                               'to '\n",
      "                                                                               'add '\n",
      "                                                                               'attachment '\n",
      "                                                                               'due '\n",
      "                                                                               'to '\n",
      "                                                                               'file '\n",
      "                                                                               'format, '\n",
      "                                                                               'or '\n",
      "                                                                               'shape, '\n",
      "                                                                               'or '\n",
      "                                                                               '...',\n",
      " 'D:/PowerFolders/Synchroload MgBone/Histologies/Peek_12w_17029-0003_48L.tif': 'Failed '\n",
      "                                                                               'to '\n",
      "                                                                               'add '\n",
      "                                                                               'attachment '\n",
      "                                                                               'due '\n",
      "                                                                               'to '\n",
      "                                                                               'file '\n",
      "                                                                               'format, '\n",
      "                                                                               'or '\n",
      "                                                                               'shape, '\n",
      "                                                                               'or '\n",
      "                                                                               '...',\n",
      " 'D:/PowerFolders/Synchroload MgBone/Histologies/Ti_12w_17028-0003_42L.tif': 'Failed '\n",
      "                                                                             'to '\n",
      "                                                                             'add '\n",
      "                                                                             'attachment '\n",
      "                                                                             'due '\n",
      "                                                                             'to '\n",
      "                                                                             'file '\n",
      "                                                                             'format, '\n",
      "                                                                             'or '\n",
      "                                                                             'shape, '\n",
      "                                                                             'or '\n",
      "                                                                             '...',\n",
      " 'D:/PowerFolders/Synchroload MgBone/Histologies/Ti_12w_17028-0004_42L.tif': 'Failed '\n",
      "                                                                             'to '\n",
      "                                                                             'add '\n",
      "                                                                             'attachment '\n",
      "                                                                             'due '\n",
      "                                                                             'to '\n",
      "                                                                             'file '\n",
      "                                                                             'format, '\n",
      "                                                                             'or '\n",
      "                                                                             'shape, '\n",
      "                                                                             'or '\n",
      "                                                                             '...'}\n"
     ]
    }
   ],
   "source": [
    "pprint(failed)"
   ]
  }
 ],
 "metadata": {
  "kernelspec": {
   "display_name": "Python 3",
   "language": "python",
   "name": "python3"
  },
  "language_info": {
   "codemirror_mode": {
    "name": "ipython",
    "version": 3
   },
   "file_extension": ".py",
   "mimetype": "text/x-python",
   "name": "python",
   "nbconvert_exporter": "python",
   "pygments_lexer": "ipython3",
   "version": "3.8.5"
  }
 },
 "nbformat": 4,
 "nbformat_minor": 4
}
